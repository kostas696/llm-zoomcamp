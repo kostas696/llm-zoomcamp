{
 "cells": [
  {
   "cell_type": "markdown",
   "id": "d38a3ff2",
   "metadata": {},
   "source": [
    "## Question 1"
   ]
  },
  {
   "cell_type": "code",
   "execution_count": null,
   "id": "8d135be9",
   "metadata": {},
   "outputs": [],
   "source": [
    "import requests\n",
    "import uuid\n",
    "import pandas as pd\n",
    "import numpy as np\n",
    "import matplotlib.pyplot as plt\n",
    "import seaborn as sns\n",
    "\n",
    "from sklearn.metrics.pairwise import cosine_similarity\n",
    "from tqdm import tqdm\n",
    "from rouge import Rouge\n",
    "from minsearch import Index\n",
    "from minsearch import VectorSearch\n",
    "from sklearn.feature_extraction.text import TfidfVectorizer\n",
    "from sklearn.decomposition import TruncatedSVD\n",
    "from sklearn.pipeline import make_pipeline\n",
    "from qdrant_client import QdrantClient\n",
    "from qdrant_client.models import Distance, VectorParams, PointStruct\n",
    "from sentence_transformers import SentenceTransformer\n",
    "\n",
    "sns.set(style=\"whitegrid\")\n",
    "\n",
    "import warnings\n",
    "warnings.filterwarnings(\"ignore\")"
   ]
  },
  {
   "cell_type": "code",
   "execution_count": 2,
   "id": "63bacbd3",
   "metadata": {},
   "outputs": [],
   "source": [
    "url_prefix = 'https://raw.githubusercontent.com/DataTalksClub/llm-zoomcamp/main/03-evaluation/'\n",
    "docs_url = url_prefix + 'search_evaluation/documents-with-ids.json'\n",
    "documents = requests.get(docs_url).json()\n",
    "\n",
    "ground_truth_url = url_prefix + 'search_evaluation/ground-truth-data.csv'\n",
    "df_ground_truth = pd.read_csv(ground_truth_url)\n",
    "ground_truth = df_ground_truth.to_dict(orient='records')"
   ]
  },
  {
   "cell_type": "code",
   "execution_count": 3,
   "id": "1b9e9044",
   "metadata": {},
   "outputs": [],
   "source": [
    "def hit_rate(relevance_total):\n",
    "    cnt = 0\n",
    "\n",
    "    for line in relevance_total:\n",
    "        if True in line:\n",
    "            cnt = cnt + 1\n",
    "\n",
    "    return cnt / len(relevance_total)\n",
    "\n",
    "def mrr(relevance_total):\n",
    "    total_score = 0.0\n",
    "\n",
    "    for line in relevance_total:\n",
    "        for rank in range(len(line)):\n",
    "            if line[rank] == True:\n",
    "                total_score = total_score + 1 / (rank + 1)\n",
    "\n",
    "    return total_score / len(relevance_total)\n",
    "\n",
    "def evaluate(ground_truth, search_function):\n",
    "    relevance_total = []\n",
    "\n",
    "    for q in tqdm(ground_truth):\n",
    "        doc_id = q['document']\n",
    "        results = search_function(q)\n",
    "        relevance = [d['id'] == doc_id for d in results]\n",
    "        relevance_total.append(relevance)\n",
    "\n",
    "    return {\n",
    "        'hit_rate': hit_rate(relevance_total),\n",
    "        'mrr': mrr(relevance_total),\n",
    "    }"
   ]
  },
  {
   "cell_type": "code",
   "execution_count": 4,
   "id": "3972e9e2",
   "metadata": {},
   "outputs": [
    {
     "name": "stderr",
     "output_type": "stream",
     "text": [
      "100%|██████████| 4627/4627 [00:13<00:00, 347.49it/s]\n"
     ]
    },
    {
     "data": {
      "text/plain": [
       "{'hit_rate': 0.8013831856494489, 'mrr': 0.6818312801671366}"
      ]
     },
     "execution_count": 4,
     "metadata": {},
     "output_type": "execute_result"
    }
   ],
   "source": [
    "# Minsearch Index with boosting\n",
    "index = Index(\n",
    "    text_fields=[\"question\", \"text\", \"section\"],\n",
    "    keyword_fields=[\"course\"]\n",
    ")\n",
    "index.fit(documents)\n",
    "\n",
    "# Boosting parameters\n",
    "boost_dict = {\"question\": 1.5, \"section\": 0.1}\n",
    "\n",
    "# Search function\n",
    "def search_function(q):\n",
    "    return index.search(q[\"question\"], boost_dict=boost_dict, num_results=5)\n",
    "\n",
    "# Evaluate\n",
    "results = evaluate(ground_truth, search_function)\n",
    "results"
   ]
  },
  {
   "cell_type": "markdown",
   "id": "5ab7bd8e",
   "metadata": {},
   "source": [
    "## Question 2"
   ]
  },
  {
   "cell_type": "code",
   "execution_count": 5,
   "id": "bd4258af",
   "metadata": {},
   "outputs": [],
   "source": [
    "texts = []\n",
    "\n",
    "for doc in documents:\n",
    "    t = doc['question']\n",
    "    texts.append(t)\n",
    "\n",
    "pipeline = make_pipeline(\n",
    "    TfidfVectorizer(min_df=3),\n",
    "    TruncatedSVD(n_components=128, random_state=1)\n",
    ")\n",
    "X = pipeline.fit_transform(texts)"
   ]
  },
  {
   "cell_type": "code",
   "execution_count": 6,
   "id": "c2b557fa",
   "metadata": {},
   "outputs": [
    {
     "data": {
      "text/plain": [
       "<minsearch.vector.VectorSearch at 0x7feb739b6750>"
      ]
     },
     "execution_count": 6,
     "metadata": {},
     "output_type": "execute_result"
    }
   ],
   "source": [
    "vindex = VectorSearch(keyword_fields={'course'})\n",
    "vindex.fit(X, documents)"
   ]
  },
  {
   "cell_type": "code",
   "execution_count": 7,
   "id": "c19e3f4a",
   "metadata": {},
   "outputs": [
    {
     "name": "stderr",
     "output_type": "stream",
     "text": [
      "100%|██████████| 4627/4627 [00:06<00:00, 700.02it/s]\n"
     ]
    },
    {
     "data": {
      "text/plain": [
       "{'hit_rate': 0.39377566457748003, 'mrr': 0.2900259347309274}"
      ]
     },
     "execution_count": 7,
     "metadata": {},
     "output_type": "execute_result"
    }
   ],
   "source": [
    "# New search function\n",
    "def search_function_new(q):\n",
    "    x = pipeline.transform([q[\"question\"]])\n",
    "    return vindex.search(x[0], num_results=5)\n",
    "\n",
    "# Run evaluation\n",
    "results = evaluate(ground_truth, search_function_new)\n",
    "results"
   ]
  },
  {
   "cell_type": "markdown",
   "id": "a5a39040",
   "metadata": {},
   "source": [
    "## Question 3"
   ]
  },
  {
   "cell_type": "code",
   "execution_count": 8,
   "id": "541370c0",
   "metadata": {},
   "outputs": [
    {
     "data": {
      "text/plain": [
       "<minsearch.vector.VectorSearch at 0x7febcb7cc8c0>"
      ]
     },
     "execution_count": 8,
     "metadata": {},
     "output_type": "execute_result"
    }
   ],
   "source": [
    "# Create embeddings using \"question + text\"\n",
    "texts = [doc[\"question\"] + \" \" + doc[\"text\"] for doc in documents]\n",
    "\n",
    "X = pipeline.fit_transform(texts)\n",
    "\n",
    "# Create and fit vector search index\n",
    "vindex = VectorSearch(keyword_fields=[\"course\"])\n",
    "vindex.fit(X, documents)"
   ]
  },
  {
   "cell_type": "code",
   "execution_count": 9,
   "id": "360a0ace",
   "metadata": {},
   "outputs": [
    {
     "name": "stderr",
     "output_type": "stream",
     "text": [
      "100%|██████████| 4627/4627 [00:06<00:00, 677.51it/s]\n"
     ]
    },
    {
     "data": {
      "text/plain": [
       "{'hit_rate': 0.7704776312945754, 'mrr': 0.6157661551761406}"
      ]
     },
     "execution_count": 9,
     "metadata": {},
     "output_type": "execute_result"
    }
   ],
   "source": [
    "# Define search function\n",
    "def search_function_3(q):\n",
    "    query_text = q[\"question\"]\n",
    "    x = pipeline.transform([query_text])\n",
    "    return vindex.search(x[0], num_results=5)\n",
    "\n",
    "# Run evaluation\n",
    "results = evaluate(ground_truth, search_function_3)\n",
    "results"
   ]
  },
  {
   "cell_type": "markdown",
   "id": "5acdb300",
   "metadata": {},
   "source": [
    "## Question 4"
   ]
  },
  {
   "cell_type": "code",
   "execution_count": null,
   "id": "db25d70f",
   "metadata": {},
   "outputs": [],
   "source": [
    "# Used \"all-MiniLM-L6-v2\" instead of \"jinaai/jina-embeddings-v2-small-en\" \n",
    "# because it was crashing\n",
    "model = SentenceTransformer(\"all-MiniLM-L6-v2\") "
   ]
  },
  {
   "cell_type": "code",
   "execution_count": null,
   "id": "d7ff101d",
   "metadata": {},
   "outputs": [],
   "source": [
    "# Create texts and embeddings for indexing\n",
    "texts = [doc['question'] + ' ' + doc['text'] for doc in documents]\n",
    "vectors = model.encode(texts, convert_to_numpy=True)\n",
    "\n",
    "# Initialize Qdrant \n",
    "qdrant = QdrantClient(\":memory:\")  # Use in-memory instance\n",
    "\n",
    "# Create a collection and upload data\n",
    "qdrant.recreate_collection(\n",
    "    collection_name=\"faq_search\",\n",
    "    vectors_config=VectorParams(size=vectors.shape[1], distance=Distance.COSINE),\n",
    ")\n",
    "# Upload points to Qdrant\n",
    "qdrant.upload_points(\n",
    "    collection_name=\"faq_search\",\n",
    "    points=[\n",
    "        PointStruct(\n",
    "            id=str(uuid.uuid5(uuid.NAMESPACE_DNS, str(doc[\"id\"]))),  # Convert to UUID\n",
    "            vector=vec,\n",
    "            payload={**doc, \"original_id\": doc[\"id\"]}  # Keep original string ID in payload\n",
    "        )\n",
    "        for doc, vec in zip(documents, vectors)\n",
    "    ]\n",
    ")"
   ]
  },
  {
   "cell_type": "code",
   "execution_count": null,
   "id": "23689972",
   "metadata": {},
   "outputs": [],
   "source": [
    "# New evaluate function for Qdrant\n",
    "def evaluate(ground_truth, search_function):\n",
    "    relevance_total = []\n",
    "    for q in ground_truth:\n",
    "        doc_id = q[\"document\"]\n",
    "        results = search_function(q)\n",
    "        relevance = [d.payload[\"original_id\"] == doc_id for d in results]\n",
    "        relevance_total.append(relevance)\n",
    "    return {\n",
    "        \"hit_rate\": hit_rate(relevance_total),\n",
    "        \"mrr\": mrr(relevance_total),\n",
    "    }"
   ]
  },
  {
   "cell_type": "code",
   "execution_count": null,
   "id": "b39c6966",
   "metadata": {},
   "outputs": [
    {
     "data": {
      "text/plain": [
       "{'hit_rate': 0.9007996542035877, 'mrr': 0.7960593617174567}"
      ]
     },
     "execution_count": 11,
     "metadata": {},
     "output_type": "execute_result"
    }
   ],
   "source": [
    "# Search function using Qdrant\n",
    "def search_function(q):\n",
    "    query = q[\"question\"]\n",
    "    query_vector = model.encode(query).tolist()\n",
    "\n",
    "    hits = qdrant.search(\n",
    "        collection_name=\"faq_search\",\n",
    "        query_vector=query_vector,\n",
    "        limit=5\n",
    "    )\n",
    "    return hits\n",
    "\n",
    "# Run evaluation\n",
    "results = evaluate(ground_truth, search_function)\n",
    "results"
   ]
  },
  {
   "cell_type": "markdown",
   "id": "d725f4de",
   "metadata": {},
   "source": [
    "## Question 5"
   ]
  },
  {
   "cell_type": "code",
   "execution_count": 6,
   "id": "b49e3b09",
   "metadata": {},
   "outputs": [
    {
     "name": "stdout",
     "output_type": "stream",
     "text": [
      "Average cosine similarity: 0.84\n"
     ]
    }
   ],
   "source": [
    "# Load local file\n",
    "df = pd.read_csv(\"/workspaces/llm-zoomcamp/homework3o/results-gpt4o-mini.csv\")\n",
    "\n",
    "# Build TF-IDF + SVD pipeline\n",
    "pipeline = make_pipeline(\n",
    "    TfidfVectorizer(min_df=3),\n",
    "    TruncatedSVD(n_components=128, random_state=1)\n",
    ")\n",
    "\n",
    "# Fit the pipeline on the combined text\n",
    "pipeline.fit(\n",
    "    df[\"answer_llm\"].fillna('') + \" \" +\n",
    "    df[\"answer_orig\"].fillna('') + \" \" +\n",
    "    df[\"question\"].fillna('')\n",
    ")\n",
    "\n",
    "# Define cosine similarity\n",
    "def cosine(u, v):\n",
    "    u_norm = np.sqrt(u.dot(u))\n",
    "    v_norm = np.sqrt(v.dot(v))\n",
    "    return u.dot(v) / (u_norm * v_norm)\n",
    "\n",
    "# Compute cosine similarities\n",
    "similarities = []\n",
    "\n",
    "for _, row in df.iterrows():\n",
    "    v_llm = pipeline.transform([row[\"answer_llm\"]])[0]\n",
    "    v_orig = pipeline.transform([row[\"answer_orig\"]])[0]\n",
    "    sim = cosine(v_llm, v_orig)\n",
    "    similarities.append(sim)\n",
    "\n",
    "# Final result\n",
    "average_cosine = np.mean(similarities)\n",
    "print(f\"Average cosine similarity: {average_cosine:.2f}\")"
   ]
  },
  {
   "cell_type": "code",
   "execution_count": 8,
   "id": "25c8bca7",
   "metadata": {},
   "outputs": [
    {
     "data": {
      "image/png": "[encoded data removed]",
      "text/plain": [
       "<Figure size 800x500 with 1 Axes>"
      ]
     },
     "metadata": {},
     "output_type": "display_data"
    }
   ],
   "source": [
    "# Plot distribution\n",
    "plt.figure(figsize=(8, 5))\n",
    "sns.histplot(similarities, bins=30, kde=True)\n",
    "plt.title(\"Distribution of Cosine Similarities\", fontsize=14)\n",
    "plt.xlabel(\"Cosine Similarity\")\n",
    "plt.ylabel(\"Frequency\")\n",
    "plt.axvline(np.mean(similarities), color='red', linestyle='--', label=f\"Mean = {np.mean(similarities):.2f}\")\n",
    "plt.legend()\n",
    "plt.show()"
   ]
  },
  {
   "cell_type": "markdown",
   "id": "96d9dc9f",
   "metadata": {},
   "source": [
    "## Question 6"
   ]
  },
  {
   "cell_type": "code",
   "execution_count": 14,
   "id": "46ca9030",
   "metadata": {},
   "outputs": [
    {
     "name": "stdout",
     "output_type": "stream",
     "text": [
      "Average ROUGE-1 F1 Score: 0.35\n"
     ]
    }
   ],
   "source": [
    "# Initialize ROUGE scorer\n",
    "rouge_scorer = Rouge()\n",
    "rouge_1_f1_scores = []\n",
    "\n",
    "for _, row in df.iterrows():\n",
    "    try:\n",
    "        scores = rouge_scorer.get_scores(row[\"answer_llm\"], row[\"answer_orig\"])[0]\n",
    "        rouge_1_f1_scores.append(scores[\"rouge-1\"][\"f\"])\n",
    "    except Exception:\n",
    "        # Handle edge cases with empty or bad inputs\n",
    "        rouge_1_f1_scores.append(0.0)\n",
    "\n",
    "avg_rouge_1_f1 = sum(rouge_1_f1_scores) / len(rouge_1_f1_scores)\n",
    "print(f\"Average ROUGE-1 F1 Score: {avg_rouge_1_f1:.2f}\")"
   ]
  }
 ],
 "metadata": {
  "kernelspec": {
   "display_name": "Python 3",
   "language": "python",
   "name": "python3"
  },
  "language_info": {
   "codemirror_mode": {
    "name": "ipython",
    "version": 3
   },
   "file_extension": ".py",
   "mimetype": "text/x-python",
   "name": "python",
   "nbconvert_exporter": "python",
   "pygments_lexer": "ipython3",
   "version": "3.12.1"
  }
 },
 "nbformat": 4,
 "nbformat_minor": 5
}
